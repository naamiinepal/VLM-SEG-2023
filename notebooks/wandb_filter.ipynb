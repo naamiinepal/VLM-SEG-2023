{
 "cells": [
  {
   "attachments": {},
   "cell_type": "markdown",
   "metadata": {},
   "source": [
    "### Get the path of checkpoints"
   ]
  },
  {
   "cell_type": "code",
   "execution_count": 1,
   "metadata": {},
   "outputs": [],
   "source": [
    "import wandb\n",
    "import os\n",
    "import glob\n",
    "import shutil"
   ]
  },
  {
   "cell_type": "code",
   "execution_count": 21,
   "metadata": {},
   "outputs": [],
   "source": [
    "REMOTE_RUNS_PATH = \"manishdhakal/SDM_CAMUS\" # WandB Project Path\n",
    "exp_filters = {\"display_name\": {\"$regex\": \"clip_seg_sdm_camus_bs_128*\"}} # Experiments filter\n",
    "\n",
    "# Local paths\n",
    "ROOT_PATH = \"/home/manish/sedoc/biomedclip/lightning-hydra-starter\"\n",
    "LOGS_PATH = os.path.join(ROOT_PATH, \"logs\")\n",
    "TRAIN_PATH = os.path.join(LOGS_PATH, \"train/runs\")\n"
   ]
  },
  {
   "cell_type": "code",
   "execution_count": 22,
   "metadata": {},
   "outputs": [
    {
     "data": {
      "text/plain": [
       "7"
      ]
     },
     "execution_count": 22,
     "metadata": {},
     "output_type": "execute_result"
    }
   ],
   "source": [
    "api = wandb.Api()\n",
    "remote_runs = api.runs(\n",
    "    REMOTE_RUNS_PATH, filters=exp_filters\n",
    ")\n",
    "len(remote_runs)"
   ]
  },
  {
   "cell_type": "code",
   "execution_count": 26,
   "metadata": {},
   "outputs": [
    {
     "name": "stdout",
     "output_type": "stream",
     "text": [
      "clip_seg_sdm_camus_bs_128_p0_reduce_lr=logs/train/runs/2023-07-11_09-39-25/checkpoints/epoch_020.ckpt \n",
      "\n",
      "clip_seg_sdm_camus_bs_128_p6_reduce_lr=logs/train/runs/2023-07-11_08-43-21/checkpoints/epoch_015.ckpt \n",
      "\n",
      "clip_seg_sdm_camus_bs_128_p5_reduce_lr=logs/train/runs/2023-07-11_07-14-33/checkpoints/epoch_025.ckpt \n",
      "\n",
      "clip_seg_sdm_camus_bs_128_p4_reduce_lr=logs/train/runs/2023-07-11_05-44-34/checkpoints/epoch_025.ckpt \n",
      "\n",
      "clip_seg_sdm_camus_bs_128_p3_reduce_lr=logs/train/runs/2023-07-11_04-25-57/checkpoints/epoch_020.ckpt \n",
      "\n",
      "clip_seg_sdm_camus_bs_128_p2_reduce_lr=logs/train/runs/2023-07-11_02-59-28/checkpoints/epoch_025.ckpt \n",
      "\n",
      "clip_seg_sdm_camus_bs_128_p1_reduce_lr=logs/train/runs/2023-07-11_01-25-09/checkpoints/epoch_028.ckpt \n",
      "\n"
     ]
    }
   ],
   "source": [
    "from pathlib import Path\n",
    "remote_runs_root_dirs = []\n",
    "display_names = []\n",
    "root_dir = \"\"\n",
    "for run in remote_runs:\n",
    "    ckpt_path = glob.glob(run.config[\"callbacks/model_checkpoint/dirpath\"] + \"/epoch*\")[0]\n",
    "    ckpt_path = Path(ckpt_path)\n",
    "    root_dir = ckpt_path.parent.parent.parent.parent.parent.parent\n",
    "    relative_path = ckpt_path.relative_to(root_dir)\n",
    "    display_name = run.display_name\n",
    "    print(\n",
    "        f\"{display_name}={relative_path} \\n\"\n",
    "    )"
   ]
  },
  {
   "attachments": {},
   "cell_type": "markdown",
   "metadata": {},
   "source": [
    "### Delete the local logs and checkpoints not in the WandB server"
   ]
  },
  {
   "cell_type": "code",
   "execution_count": 26,
   "metadata": {},
   "outputs": [
    {
     "ename": "SystemExit",
     "evalue": "Are you sure you want to delete the local logs?",
     "output_type": "error",
     "traceback": [
      "An exception has occurred, use %tb to see the full traceback.\n",
      "\u001b[0;31mSystemExit\u001b[0m\u001b[0;31m:\u001b[0m Are you sure you want to delete the local logs?\n"
     ]
    }
   ],
   "source": [
    "raise SystemExit(\"Are you sure you want to delete the local logs?\")"
   ]
  },
  {
   "cell_type": "code",
   "execution_count": null,
   "metadata": {},
   "outputs": [],
   "source": [
    "import wandb\n",
    "import os\n",
    "import glob\n",
    "import shutil"
   ]
  },
  {
   "cell_type": "code",
   "execution_count": 29,
   "metadata": {},
   "outputs": [
    {
     "data": {
      "text/plain": [
       "651"
      ]
     },
     "execution_count": 29,
     "metadata": {},
     "output_type": "execute_result"
    }
   ],
   "source": [
    "api = wandb.Api()\n",
    "remote_runs = api.runs(\"manishdhakal/BiomedCLIPSeg\")\n",
    "len(remote_runs)"
   ]
  },
  {
   "cell_type": "code",
   "execution_count": null,
   "metadata": {},
   "outputs": [
    {
     "name": "stdout",
     "output_type": "stream",
     "text": [
      "Total local runs: 487\n",
      "Deleting /home/manish/sedoc/biomedclip/lightning-hydra-starter/logs/eval/runs/2023-06-06_17-42-04 ...\n",
      "Deleting /home/manish/sedoc/biomedclip/lightning-hydra-starter/logs/eval/runs/2023-06-06_17-16-21 ...\n",
      "Deleting /home/manish/sedoc/biomedclip/lightning-hydra-starter/logs/eval/runs/2023-06-06_17-26-52 ...\n",
      "Deleting /home/manish/sedoc/biomedclip/lightning-hydra-starter/logs/eval/runs/2023-06-06_17-37-24 ...\n",
      "Deleting /home/manish/sedoc/biomedclip/lightning-hydra-starter/logs/eval/runs/2023-06-06_17-39-16 ...\n",
      "Deleting /home/manish/sedoc/biomedclip/lightning-hydra-starter/logs/eval/runs/2023-06-06_18-00-28 ...\n",
      "Deleting /home/manish/sedoc/biomedclip/lightning-hydra-starter/logs/eval/runs/2023-06-06_18-05-23 ...\n",
      "Deleting /home/manish/sedoc/biomedclip/lightning-hydra-starter/logs/eval/runs/2023-06-06_17-24-19 ...\n",
      "Deleting /home/manish/sedoc/biomedclip/lightning-hydra-starter/logs/eval/runs/2023-06-06_17-25-35 ...\n",
      "Deleting /home/manish/sedoc/biomedclip/lightning-hydra-starter/logs/eval/runs/2023-06-06_17-17-00 ...\n",
      "Deleting /home/manish/sedoc/biomedclip/lightning-hydra-starter/logs/eval/runs/2023-06-06_17-48-14 ...\n",
      "Deleting /home/manish/sedoc/biomedclip/lightning-hydra-starter/logs/eval/runs/2023-06-06_17-35-47 ...\n",
      "Deleting /home/manish/sedoc/biomedclip/lightning-hydra-starter/logs/eval/runs/2023-06-06_17-43-28 ...\n",
      "Deleting /home/manish/sedoc/biomedclip/lightning-hydra-starter/logs/eval/runs/2023-06-06_17-26-20 ...\n",
      "Deleting /home/manish/sedoc/biomedclip/lightning-hydra-starter/logs/eval/runs/2023-06-06_17-50-03 ...\n",
      "Deleting /home/manish/sedoc/biomedclip/lightning-hydra-starter/logs/eval/runs/2023-06-06_17-38-14 ...\n",
      "Deleting /home/manish/sedoc/biomedclip/lightning-hydra-starter/logs/eval/runs/2023-06-06_18-01-19 ...\n",
      "Deleting /home/manish/sedoc/biomedclip/lightning-hydra-starter/logs/eval/runs/2023-06-06_17-27-40 ...\n",
      "Deleting /home/manish/sedoc/biomedclip/lightning-hydra-starter/logs/eval/runs/2023-06-06_17-29-28 ...\n",
      "Deleting /home/manish/sedoc/biomedclip/lightning-hydra-starter/logs/eval/runs/2023-06-06_17-28-50 ...\n",
      "Deleting /home/manish/sedoc/biomedclip/lightning-hydra-starter/logs/eval/runs/2023-06-06_18-18-54 ...\n",
      "Deleting /home/manish/sedoc/biomedclip/lightning-hydra-starter/logs/eval/runs/2023-06-06_17-12-31 ...\n",
      "Deleting /home/manish/sedoc/biomedclip/lightning-hydra-starter/logs/eval/runs/2023-06-06_17-56-52 ...\n",
      "Deleting /home/manish/sedoc/biomedclip/lightning-hydra-starter/logs/eval/runs/2023-06-06_15-27-10 ...\n",
      "Deleting /home/manish/sedoc/biomedclip/lightning-hydra-starter/logs/eval/runs/2023-06-06_17-59-29 ...\n",
      "Deleting /home/manish/sedoc/biomedclip/lightning-hydra-starter/logs/eval/runs/2023-06-06_17-51-16 ...\n",
      "Deleting /home/manish/sedoc/biomedclip/lightning-hydra-starter/logs/eval/runs/2023-06-06_17-58-11 ...\n",
      "Deleting /home/manish/sedoc/biomedclip/lightning-hydra-starter/logs/eval/runs/2023-06-06_18-04-18 ...\n",
      "Deleting /home/manish/sedoc/biomedclip/lightning-hydra-starter/logs/eval/runs/2023-06-06_17-30-32 ...\n",
      "Deleting /home/manish/sedoc/biomedclip/lightning-hydra-starter/logs/eval/runs/2023-06-06_17-15-46 ...\n",
      "Deleting /home/manish/sedoc/biomedclip/lightning-hydra-starter/logs/eval/runs/2023-06-06_17-36-34 ...\n",
      "Deleting /home/manish/sedoc/biomedclip/lightning-hydra-starter/logs/eval/runs/2023-06-06_17-29-39 ...\n",
      "Deleting /home/manish/sedoc/biomedclip/lightning-hydra-starter/logs/eval/runs/2023-06-06_17-39-52 ...\n",
      "Deleting /home/manish/sedoc/biomedclip/lightning-hydra-starter/logs/eval/runs/2023-06-06_17-46-54 ...\n",
      "Deleting /home/manish/sedoc/biomedclip/lightning-hydra-starter/logs/eval/runs/2023-06-06_17-55-22 ...\n",
      "Deleting /home/manish/sedoc/biomedclip/lightning-hydra-starter/logs/eval/runs/2023-06-06_17-40-11 ...\n",
      "Deleting /home/manish/sedoc/biomedclip/lightning-hydra-starter/logs/eval/runs/2023-06-06_18-02-16 ...\n",
      "Deleting /home/manish/sedoc/biomedclip/lightning-hydra-starter/logs/eval/runs/2023-06-06_17-45-10 ...\n",
      "Deleting /home/manish/sedoc/biomedclip/lightning-hydra-starter/logs/eval/runs/2023-06-06_17-14-49 ...\n",
      "Deleting /home/manish/sedoc/biomedclip/lightning-hydra-starter/logs/eval/runs/2023-06-06_18-03-15 ...\n",
      "Deleting /home/manish/sedoc/biomedclip/lightning-hydra-starter/logs/eval/runs/2023-06-06_17-28-25 ...\n",
      "Deleting /home/manish/sedoc/biomedclip/lightning-hydra-starter/logs/eval/runs/2023-06-06_17-35-05 ...\n",
      "Deleting /home/manish/sedoc/biomedclip/lightning-hydra-starter/logs/train/runs/2023-06-06_03-09-59 ...\n",
      "Deleting /home/manish/sedoc/biomedclip/lightning-hydra-starter/logs/train/runs/2023-06-06_01-39-38 ...\n",
      "Deleting /home/manish/sedoc/biomedclip/lightning-hydra-starter/logs/train/runs/2023-06-06_03-30-15 ...\n",
      "Deleting /home/manish/sedoc/biomedclip/lightning-hydra-starter/logs/train/runs/2023-06-06_02-36-15 ...\n",
      "Deleting /home/manish/sedoc/biomedclip/lightning-hydra-starter/logs/pred/runs/2023-05-27_12-59-51 ...\n",
      "Deleting /home/manish/sedoc/biomedclip/lightning-hydra-starter/logs/pred/runs/2023-05-27_13-53-49 ...\n",
      "Deleting /home/manish/sedoc/biomedclip/lightning-hydra-starter/logs/pred/runs/2023-05-27_13-32-31 ...\n",
      "Deleting /home/manish/sedoc/biomedclip/lightning-hydra-starter/logs/pred/runs/2023-05-27_13-47-31 ...\n",
      "Deleting /home/manish/sedoc/biomedclip/lightning-hydra-starter/logs/pred/runs/2023-05-27_13-48-33 ...\n",
      "Deleting /home/manish/sedoc/biomedclip/lightning-hydra-starter/logs/pred/runs/2023-05-27_13-51-48 ...\n",
      "Deleting /home/manish/sedoc/biomedclip/lightning-hydra-starter/logs/pred/runs/2023-05-27_13-08-51 ...\n",
      "Deleting /home/manish/sedoc/biomedclip/lightning-hydra-starter/logs/pred/runs/2023-05-27_13-12-07 ...\n",
      "Deleting /home/manish/sedoc/biomedclip/lightning-hydra-starter/logs/pred/runs/2023-05-05_16-49-49 ...\n",
      "Deleting /home/manish/sedoc/biomedclip/lightning-hydra-starter/logs/pred/runs/2023-05-27_13-01-02 ...\n",
      "Deleting /home/manish/sedoc/biomedclip/lightning-hydra-starter/logs/pred/runs/2023-05-27_13-09-59 ...\n",
      "Deleting /home/manish/sedoc/biomedclip/lightning-hydra-starter/logs/pred/runs/2023-05-27_13-25-01 ...\n",
      "Deleting /home/manish/sedoc/biomedclip/lightning-hydra-starter/logs/pred/runs/2023-05-05_15-19-14 ...\n",
      "Deleting /home/manish/sedoc/biomedclip/lightning-hydra-starter/logs/pred/runs/2023-05-27_13-39-06 ...\n",
      "Deleting /home/manish/sedoc/biomedclip/lightning-hydra-starter/logs/pred/runs/2023-05-27_13-30-49 ...\n",
      "Deleting /home/manish/sedoc/biomedclip/lightning-hydra-starter/logs/pred/runs/2023-05-27_13-45-51 ...\n",
      "Deleting /home/manish/sedoc/biomedclip/lightning-hydra-starter/logs/pred/runs/2023-05-27_13-13-15 ...\n",
      "Deleting /home/manish/sedoc/biomedclip/lightning-hydra-starter/logs/pred/runs/2023-05-27_13-17-23 ...\n",
      "Deleting /home/manish/sedoc/biomedclip/lightning-hydra-starter/logs/pred/runs/2023-05-27_12-46-22 ...\n",
      "Deleting /home/manish/sedoc/biomedclip/lightning-hydra-starter/logs/pred/runs/2023-05-27_13-41-56 ...\n",
      "Deleting /home/manish/sedoc/biomedclip/lightning-hydra-starter/logs/pred/runs/2023-05-27_12-47-15 ...\n",
      "Deleting /home/manish/sedoc/biomedclip/lightning-hydra-starter/logs/pred/runs/2023-05-27_13-42-31 ...\n",
      "Deleting /home/manish/sedoc/biomedclip/lightning-hydra-starter/logs/pred/runs/2023-05-27_13-41-25 ...\n",
      "Deleting /home/manish/sedoc/biomedclip/lightning-hydra-starter/logs/pred/runs/2023-05-27_13-29-37 ...\n",
      "Deleting /home/manish/sedoc/biomedclip/lightning-hydra-starter/logs/pred/runs/2023-05-27_13-22-33 ...\n",
      "Deleting /home/manish/sedoc/biomedclip/lightning-hydra-starter/logs/pred/runs/2023-05-09_22-29-35 ...\n",
      "Deleting /home/manish/sedoc/biomedclip/lightning-hydra-starter/logs/pred/runs/2023-05-27_13-08-26 ...\n",
      "Deleting /home/manish/sedoc/biomedclip/lightning-hydra-starter/logs/pred/runs/2023-05-27_13-20-47 ...\n",
      "Deleting /home/manish/sedoc/biomedclip/lightning-hydra-starter/logs/pred/runs/2023-05-27_13-46-57 ...\n",
      "Deleting /home/manish/sedoc/biomedclip/lightning-hydra-starter/logs/pred/runs/2023-05-27_12-46-05 ...\n",
      "Deleting /home/manish/sedoc/biomedclip/lightning-hydra-starter/logs/pred/runs/2023-05-05_15-18-19 ...\n",
      "Deleting /home/manish/sedoc/biomedclip/lightning-hydra-starter/logs/pred/runs/2023-05-27_13-18-40 ...\n",
      "Deleting /home/manish/sedoc/biomedclip/lightning-hydra-starter/logs/pred/runs/2023-05-27_13-57-32 ...\n",
      "Deleting /home/manish/sedoc/biomedclip/lightning-hydra-starter/logs/pred/runs/2023-05-27_13-04-53 ...\n",
      "Deleting /home/manish/sedoc/biomedclip/lightning-hydra-starter/logs/pred/runs/2023-05-27_13-14-04 ...\n",
      "Deleting /home/manish/sedoc/biomedclip/lightning-hydra-starter/logs/pred/runs/2023-05-27_13-48-58 ...\n",
      "Deleting /home/manish/sedoc/biomedclip/lightning-hydra-starter/logs/pred/runs/2023-05-27_12-54-05 ...\n",
      "Deleting /home/manish/sedoc/biomedclip/lightning-hydra-starter/logs/pred/runs/2023-05-27_13-36-17 ...\n",
      "Deleting /home/manish/sedoc/biomedclip/lightning-hydra-starter/logs/pred/runs/2023-05-05_16-34-25 ...\n",
      "Deleting /home/manish/sedoc/biomedclip/lightning-hydra-starter/logs/pred/runs/2023-06-06_15-25-09 ...\n",
      "Deleting /home/manish/sedoc/biomedclip/lightning-hydra-starter/logs/pred/runs/2023-05-27_13-13-39 ...\n",
      "Deleting /home/manish/sedoc/biomedclip/lightning-hydra-starter/logs/pred/runs/2023-05-05_15-06-54 ...\n",
      "Deleting /home/manish/sedoc/biomedclip/lightning-hydra-starter/logs/pred/runs/2023-05-27_13-23-48 ...\n",
      "Deleting /home/manish/sedoc/biomedclip/lightning-hydra-starter/logs/pred/runs/2023-05-05_16-35-24 ...\n",
      "Deleting /home/manish/sedoc/biomedclip/lightning-hydra-starter/logs/pred/runs/2023-05-27_13-35-29 ...\n",
      "Deleting /home/manish/sedoc/biomedclip/lightning-hydra-starter/logs/pred/runs/2023-05-27_13-00-35 ...\n",
      "Deleting /home/manish/sedoc/biomedclip/lightning-hydra-starter/logs/pred/runs/2023-05-27_13-53-08 ...\n",
      "Deleting /home/manish/sedoc/biomedclip/lightning-hydra-starter/logs/pred/runs/2023-05-27_13-50-28 ...\n",
      "Deleting /home/manish/sedoc/biomedclip/lightning-hydra-starter/logs/pred/runs/2023-05-27_13-49-23 ...\n",
      "Deleting /home/manish/sedoc/biomedclip/lightning-hydra-starter/logs/pred/runs/2023-05-27_13-28-23 ...\n",
      "Deleting /home/manish/sedoc/biomedclip/lightning-hydra-starter/logs/pred/runs/2023-05-05_14-59-14 ...\n",
      "Deleting /home/manish/sedoc/biomedclip/lightning-hydra-starter/logs/pred/runs/2023-05-05_15-19-40 ...\n",
      "Deleting /home/manish/sedoc/biomedclip/lightning-hydra-starter/logs/pred/runs/2023-05-27_13-31-17 ...\n",
      "Deleting /home/manish/sedoc/biomedclip/lightning-hydra-starter/logs/pred/runs/2023-05-27_13-56-56 ...\n",
      "Deleting /home/manish/sedoc/biomedclip/lightning-hydra-starter/logs/pred/runs/2023-05-27_13-43-37 ...\n",
      "Deleting /home/manish/sedoc/biomedclip/lightning-hydra-starter/logs/pred/runs/2023-05-27_13-20-31 ...\n",
      "Deleting /home/manish/sedoc/biomedclip/lightning-hydra-starter/logs/pred/runs/2023-05-27_13-24-25 ...\n",
      "Deleting /home/manish/sedoc/biomedclip/lightning-hydra-starter/logs/pred/runs/2023-05-27_13-12-41 ...\n",
      "Deleting /home/manish/sedoc/biomedclip/lightning-hydra-starter/logs/pred/runs/2023-05-27_12-43-11 ...\n",
      "Deleting /home/manish/sedoc/biomedclip/lightning-hydra-starter/logs/pred/runs/2023-05-27_13-34-09 ...\n",
      "Deleting /home/manish/sedoc/biomedclip/lightning-hydra-starter/logs/pred/runs/2023-05-27_13-34-47 ...\n",
      "Deleting /home/manish/sedoc/biomedclip/lightning-hydra-starter/logs/pred/runs/2023-05-27_13-37-47 ...\n",
      "Deleting /home/manish/sedoc/biomedclip/lightning-hydra-starter/logs/pred/runs/2023-05-27_13-15-16 ...\n",
      "Deleting /home/manish/sedoc/biomedclip/lightning-hydra-starter/logs/pred/runs/2023-05-05_16-51-42 ...\n",
      "Deleting /home/manish/sedoc/biomedclip/lightning-hydra-starter/logs/pred/runs/2023-05-27_13-31-49 ...\n",
      "Deleting /home/manish/sedoc/biomedclip/lightning-hydra-starter/logs/pred/runs/2023-05-27_13-26-51 ...\n",
      "Deleting /home/manish/sedoc/biomedclip/lightning-hydra-starter/logs/pred/runs/2023-05-27_13-45-14 ...\n",
      "Deleting /home/manish/sedoc/biomedclip/lightning-hydra-starter/logs/pred/runs/2023-05-27_13-02-59 ...\n",
      "Deleting /home/manish/sedoc/biomedclip/lightning-hydra-starter/logs/pred/runs/2023-05-27_13-04-11 ...\n",
      "Deleting /home/manish/sedoc/biomedclip/lightning-hydra-starter/logs/pred/runs/2023-05-27_13-33-17 ...\n",
      "Deleting /home/manish/sedoc/biomedclip/lightning-hydra-starter/logs/pred/runs/2023-05-05_14-54-01 ...\n",
      "Deleting /home/manish/sedoc/biomedclip/lightning-hydra-starter/logs/pred/runs/2023-05-27_13-23-11 ...\n",
      "Deleting /home/manish/sedoc/biomedclip/lightning-hydra-starter/logs/pred/runs/2023-05-05_16-33-27 ...\n",
      "Deleting /home/manish/sedoc/biomedclip/lightning-hydra-starter/logs/pred/runs/2023-05-27_13-19-48 ...\n",
      "Deleting /home/manish/sedoc/biomedclip/lightning-hydra-starter/logs/pred/runs/2023-05-05_16-32-53 ...\n",
      "Deleting /home/manish/sedoc/biomedclip/lightning-hydra-starter/logs/pred/runs/2023-05-27_13-21-22 ...\n",
      "Deleting /home/manish/sedoc/biomedclip/lightning-hydra-starter/logs/pred/runs/2023-05-27_13-11-12 ...\n",
      "Deleting /home/manish/sedoc/biomedclip/lightning-hydra-starter/logs/pred/runs/2023-05-27_13-16-31 ...\n",
      "Deleting /home/manish/sedoc/biomedclip/lightning-hydra-starter/logs/pred/runs/2023-05-27_13-54-32 ...\n",
      "Deleting /home/manish/sedoc/biomedclip/lightning-hydra-starter/logs/pred/runs/2023-05-27_13-49-54 ...\n",
      "Deleting /home/manish/sedoc/biomedclip/lightning-hydra-starter/logs/pred/runs/2023-05-27_13-02-21 ...\n",
      "Deleting /home/manish/sedoc/biomedclip/lightning-hydra-starter/logs/pred/runs/2023-05-27_13-06-16 ...\n",
      "Deleting /home/manish/sedoc/biomedclip/lightning-hydra-starter/logs/pred/runs/2023-05-27_13-06-45 ...\n",
      "Deleting /home/manish/sedoc/biomedclip/lightning-hydra-starter/logs/pred/runs/2023-05-05_15-35-52 ...\n",
      "Deleting /home/manish/sedoc/biomedclip/lightning-hydra-starter/logs/pred/runs/2023-05-27_13-44-44 ...\n",
      "Deleting /home/manish/sedoc/biomedclip/lightning-hydra-starter/logs/pred/runs/2023-05-27_13-38-23 ...\n",
      "Deleting /home/manish/sedoc/biomedclip/lightning-hydra-starter/logs/pred/runs/2023-05-27_12-48-10 ...\n",
      "Deleting /home/manish/sedoc/biomedclip/lightning-hydra-starter/logs/pred/runs/2023-05-05_15-21-21 ...\n",
      "Deleting /home/manish/sedoc/biomedclip/lightning-hydra-starter/logs/pred/runs/2023-05-27_13-14-28 ...\n",
      "Deleting /home/manish/sedoc/biomedclip/lightning-hydra-starter/logs/pred/runs/2023-05-27_13-16-08 ...\n",
      "Deleting /home/manish/sedoc/biomedclip/lightning-hydra-starter/logs/pred/runs/2023-05-05_15-08-02 ...\n",
      "Deleting /home/manish/sedoc/biomedclip/lightning-hydra-starter/logs/pred/runs/2023-05-27_13-01-28 ...\n",
      "Deleting /home/manish/sedoc/biomedclip/lightning-hydra-starter/logs/pred/runs/2023-05-27_13-25-35 ...\n",
      "Deleting /home/manish/sedoc/biomedclip/lightning-hydra-starter/logs/pred/runs/2023-05-09_22-30-11 ...\n",
      "Deleting /home/manish/sedoc/biomedclip/lightning-hydra-starter/logs/pred/runs/2023-05-27_13-30-14 ...\n",
      "Deleting /home/manish/sedoc/biomedclip/lightning-hydra-starter/logs/pred/runs/2023-05-27_13-18-10 ...\n",
      "Deleting /home/manish/sedoc/biomedclip/lightning-hydra-starter/logs/pred/runs/2023-05-27_13-19-01 ...\n",
      "Deleting /home/manish/sedoc/biomedclip/lightning-hydra-starter/logs/pred/runs/2023-05-27_13-48-05 ...\n",
      "Deleting /home/manish/sedoc/biomedclip/lightning-hydra-starter/logs/pred/runs/2023-05-05_15-20-28 ...\n",
      "Deleting /home/manish/sedoc/biomedclip/lightning-hydra-starter/logs/pred/runs/2023-05-27_13-20-14 ...\n",
      "Deleting /home/manish/sedoc/biomedclip/lightning-hydra-starter/logs/pred/runs/2023-05-27_13-40-53 ...\n",
      "Deleting /home/manish/sedoc/biomedclip/lightning-hydra-starter/logs/pred/runs/2023-05-27_13-26-14 ...\n",
      "Deleting /home/manish/sedoc/biomedclip/lightning-hydra-starter/logs/pred/runs/2023-05-27_13-43-05 ...\n",
      "Deleting /home/manish/sedoc/biomedclip/lightning-hydra-starter/logs/pred/runs/2023-05-27_12-46-49 ...\n",
      "Deleting /home/manish/sedoc/biomedclip/lightning-hydra-starter/logs/pred/runs/2023-05-27_13-51-00 ...\n",
      "Deleting /home/manish/sedoc/biomedclip/lightning-hydra-starter/logs/pred/runs/2023-05-27_13-10-31 ...\n",
      "Deleting /home/manish/sedoc/biomedclip/lightning-hydra-starter/logs/pred/runs/2023-05-27_13-16-59 ...\n",
      "Deleting /home/manish/sedoc/biomedclip/lightning-hydra-starter/logs/pred/runs/2023-05-05_15-05-53 ...\n",
      "Deleting /home/manish/sedoc/biomedclip/lightning-hydra-starter/logs/pred/runs/2023-05-05_15-00-38 ...\n",
      "Deleting /home/manish/sedoc/biomedclip/lightning-hydra-starter/logs/pred/runs/2023-05-05_16-54-08 ...\n",
      "Deleting /home/manish/sedoc/biomedclip/lightning-hydra-starter/logs/pred/runs/2023-05-05_15-03-57 ...\n",
      "Deleting /home/manish/sedoc/biomedclip/lightning-hydra-starter/logs/pred/runs/2023-05-05_15-07-17 ...\n",
      "Deleting /home/manish/sedoc/biomedclip/lightning-hydra-starter/logs/pred/runs/2023-05-27_13-21-55 ...\n",
      "Deleting /home/manish/sedoc/biomedclip/lightning-hydra-starter/logs/pred/runs/2023-05-27_13-19-25 ...\n",
      "Deleting /home/manish/sedoc/biomedclip/lightning-hydra-starter/logs/pred/runs/2023-05-27_13-46-25 ...\n",
      "Deleting /home/manish/sedoc/biomedclip/lightning-hydra-starter/logs/pred/runs/2023-05-27_13-17-48 ...\n",
      "Deleting /home/manish/sedoc/biomedclip/lightning-hydra-starter/logs/pred/runs/2023-05-27_13-27-36 ...\n",
      "Deleting /home/manish/sedoc/biomedclip/lightning-hydra-starter/logs/pred/runs/2023-05-27_13-40-22 ...\n",
      "Deleting /home/manish/sedoc/biomedclip/lightning-hydra-starter/logs/pred/runs/2023-05-05_15-04-54 ...\n",
      "Deleting /home/manish/sedoc/biomedclip/lightning-hydra-starter/logs/pred/runs/2023-05-27_13-03-27 ...\n",
      "Deleting /home/manish/sedoc/biomedclip/lightning-hydra-starter/logs/pred/runs/2023-05-05_15-11-07 ...\n",
      "Deleting /home/manish/sedoc/biomedclip/lightning-hydra-starter/logs/pred/runs/2023-05-27_13-28-58 ...\n",
      "Deleting /home/manish/sedoc/biomedclip/lightning-hydra-starter/logs/pred/runs/2023-05-27_13-09-26 ...\n",
      "Deleting /home/manish/sedoc/biomedclip/lightning-hydra-starter/logs/pred/runs/2023-05-27_13-05-23 ...\n",
      "Deleting /home/manish/sedoc/biomedclip/lightning-hydra-starter/logs/pred/runs/2023-05-27_13-07-21 ...\n",
      "Deleting /home/manish/sedoc/biomedclip/lightning-hydra-starter/logs/pred/runs/2023-05-05_15-33-50 ...\n",
      "Deleting /home/manish/sedoc/biomedclip/lightning-hydra-starter/logs/pred/runs/2023-05-27_13-55-25 ...\n",
      "Deleting /home/manish/sedoc/biomedclip/lightning-hydra-starter/logs/pred/runs/2023-05-27_13-39-42 ...\n",
      "Deleting /home/manish/sedoc/biomedclip/lightning-hydra-starter/logs/pred/runs/2023-05-27_13-56-06 ...\n",
      "Deleting /home/manish/sedoc/biomedclip/lightning-hydra-starter/logs/pred/runs/2023-05-05_16-36-07 ...\n",
      "Deleting /home/manish/sedoc/biomedclip/lightning-hydra-starter/logs/pred/runs/2023-05-27_13-14-55 ...\n",
      "Deleting /home/manish/sedoc/biomedclip/lightning-hydra-starter/logs/pred/runs/2023-05-27_12-48-36 ...\n",
      "Deleting /home/manish/sedoc/biomedclip/lightning-hydra-starter/logs/pred/runs/2023-05-05_16-31-18 ...\n",
      "Deleting /home/manish/sedoc/biomedclip/lightning-hydra-starter/logs/pred/runs/2023-05-27_13-52-29 ...\n",
      "Deleting /home/manish/sedoc/biomedclip/lightning-hydra-starter/logs/pred/runs/2023-05-27_12-47-48 ...\n",
      "Deleting /home/manish/sedoc/biomedclip/lightning-hydra-starter/logs/pred/runs/2023-05-27_13-15-43 ...\n",
      "Deleting /home/manish/sedoc/biomedclip/lightning-hydra-starter/logs/pred/runs/2023-05-27_13-44-11 ...\n",
      "Deleting /home/manish/sedoc/biomedclip/lightning-hydra-starter/logs/pred/runs/2023-05-27_13-07-59 ...\n",
      "Deleting /home/manish/sedoc/biomedclip/lightning-hydra-starter/logs/pred/runs/2023-05-27_13-36-58 ...\n"
     ]
    }
   ],
   "source": [
    "# Get all of the remote runs\n",
    "remote_runs_root_dirs = [run.config[\"trainer/default_root_dir\"] for run in remote_runs]\n",
    "\n",
    "\n",
    "logs_path = \"/home/manish/sedoc/biomedclip/lightning-hydra-starter/logs\"\n",
    "eval_path = os.path.join(logs_path, \"eval/runs\")\n",
    "train_path = os.path.join(logs_path, \"train/runs\")\n",
    "pred_path = os.path.join(logs_path, \"pred/runs\")\n",
    "\n",
    "local_eval_runs = glob.glob(eval_path + \"/*\")\n",
    "local_train_runs = glob.glob(train_path + \"/*\")\n",
    "local_pred_runs = glob.glob(pred_path + \"/*\")\n",
    "local_runs = local_eval_runs + local_train_runs + local_pred_runs\n",
    "print(f\"Total local runs: {len(local_runs)}\")\n",
    "\n",
    "######################\n",
    "# WARNING: This is a risky operation. Make sure you assured about the runs to delete.\n",
    "#######################\n",
    "\n",
    "for local_run in local_runs:\n",
    "    if local_run in remote_runs_root_dirs:\n",
    "        continue\n",
    "    else:\n",
    "        print(f\"Deleting {local_run} ...\")\n",
    "        shutil.rmtree(local_run)"
   ]
  }
 ],
 "metadata": {
  "kernelspec": {
   "display_name": "biomedclip",
   "language": "python",
   "name": "python3"
  },
  "language_info": {
   "codemirror_mode": {
    "name": "ipython",
    "version": 3
   },
   "file_extension": ".py",
   "mimetype": "text/x-python",
   "name": "python",
   "nbconvert_exporter": "python",
   "pygments_lexer": "ipython3",
   "version": "3.10.6"
  },
  "orig_nbformat": 4
 },
 "nbformat": 4,
 "nbformat_minor": 2
}
