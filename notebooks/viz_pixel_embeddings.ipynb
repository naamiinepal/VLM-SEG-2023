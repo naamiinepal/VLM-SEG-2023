{
 "cells": [
  {
   "cell_type": "code",
   "execution_count": 2,
   "metadata": {},
   "outputs": [],
   "source": [
    "from PIL import Image\n",
    "from  torchvision import transforms\n",
    "import torch\n",
    "import open_clip\n",
    "from sys import path\n",
    "path.append(\"../\")\n",
    "from src.models.biomedclipseg import BiomedCLIPSeg"
   ]
  },
  {
   "cell_type": "code",
   "execution_count": 3,
   "metadata": {},
   "outputs": [],
   "source": [
    "class_names = [\n",
    "    \"polyp\",\n",
    "    \"breast ultrasoud\"\n",
    "    \"ultrasound\",\n",
    "    \"echocardiograhpy\",\n",
    "    \"skin_cancer\",\n",
    "    \"cardiomegaly\",\n",
    "    \"pneumonia\",\n",
    "    \"hypertension\",\n",
    "    \"lung_nodule\",\n",
    "    \"diabetic foot ulcer\"\n",
    "]\n",
    "\n",
    "def get_prompt(class_name:str) -> str:\n",
    "    return f\"This is a picture of {class_name}\""
   ]
  },
  {
   "cell_type": "code",
   "execution_count": 14,
   "metadata": {},
   "outputs": [],
   "source": [
    "biomedclip_hf_api = \"hf-hub:microsoft/BiomedCLIP-PubMedBERT_256-vit_base_patch16_224\" \n",
    "tokenizer = open_clip.get_tokenizer(biomedclip_hf_api)\n",
    "\n",
    "img_mean = [0.48145466, 0.4578275, 0.40821073]\n",
    "img_std = [0.26862954, 0.26130258, 0.27577711]\n",
    "\n",
    "img_preprocessor = transforms.Compose([\n",
    "    transforms.Resize((416,416)),\n",
    "    transforms.ToTensor(),\n",
    "    transforms.Normalize(img_mean, img_std)\n",
    "])\n",
    "\n",
    "img_path = \"/home/manish/sedoc/medvlsm/data/dfu/images/100001.jpg\"\n",
    "pil_img = Image.open(img_path).convert(\"RGB\")\n",
    "img_tensor = img_preprocessor(pil_img)[None,]\n",
    "\n",
    "prompts = [ get_prompt(c) for c in class_names]\n",
    "text_ids =  tokenizer(prompts, context_length=25)\n"
   ]
  },
  {
   "cell_type": "code",
   "execution_count": 15,
   "metadata": {},
   "outputs": [
    {
     "name": "stdout",
     "output_type": "stream",
     "text": [
      "2023-11-07 17:10:34,544 - Loaded hf-hub:microsoft/BiomedCLIP-PubMedBERT_256-vit_base_patch16_224 model config.\n"
     ]
    },
    {
     "name": "stderr",
     "output_type": "stream",
     "text": [
      "Some weights of the model checkpoint at microsoft/BiomedNLP-PubMedBERT-base-uncased-abstract were not used when initializing BertModel: ['cls.predictions.transform.LayerNorm.weight', 'cls.predictions.transform.LayerNorm.bias', 'cls.predictions.decoder.bias', 'cls.predictions.bias', 'bert.pooler.dense.bias', 'cls.seq_relationship.bias', 'cls.seq_relationship.weight', 'cls.predictions.transform.dense.weight', 'cls.predictions.decoder.weight', 'cls.predictions.transform.dense.bias', 'bert.pooler.dense.weight']\n",
      "- This IS expected if you are initializing BertModel from the checkpoint of a model trained on another task or with another architecture (e.g. initializing a BertForSequenceClassification model from a BertForPreTraining model).\n",
      "- This IS NOT expected if you are initializing BertModel from the checkpoint of a model that you expect to be exactly identical (initializing a BertForSequenceClassification model from a BertForSequenceClassification model).\n"
     ]
    },
    {
     "name": "stdout",
     "output_type": "stream",
     "text": [
      "2023-11-07 17:10:38,350 - Loading pretrained hf-hub:microsoft/BiomedCLIP-PubMedBERT_256-vit_base_patch16_224 weights (None).\n"
     ]
    },
    {
     "ename": "AssertionError",
     "evalue": "Input image height (416) doesn't match model (224).",
     "output_type": "error",
     "traceback": [
      "\u001b[0;31m---------------------------------------------------------------------------\u001b[0m",
      "\u001b[0;31mAssertionError\u001b[0m                            Traceback (most recent call last)",
      "Cell \u001b[0;32mIn[15], line 2\u001b[0m\n\u001b[1;32m      1\u001b[0m biomedclipseg \u001b[39m=\u001b[39m BiomedCLIPSeg()\n\u001b[0;32m----> 2\u001b[0m image_embeddings, image_hidden_states \u001b[39m=\u001b[39m biomedclipseg\u001b[39m.\u001b[39;49m_forward_vit(img_tensor, output_hidden_states\u001b[39m=\u001b[39;49m\u001b[39mTrue\u001b[39;49;00m)\n\u001b[1;32m      3\u001b[0m text_embeddings, text_hidden_states \u001b[39m=\u001b[39m biomedclipseg\u001b[39m.\u001b[39m_forward_bert(text_ids)\n",
      "File \u001b[0;32m/mnt/SSD0/manish/sedoc/medvlsm/notebooks/../src/models/biomedclipseg.py:67\u001b[0m, in \u001b[0;36mBiomedCLIPSeg._forward_vit\u001b[0;34m(self, x, output_hidden_states)\u001b[0m\n\u001b[1;32m     65\u001b[0m \u001b[39mdef\u001b[39;00m \u001b[39m_forward_vit\u001b[39m(\u001b[39mself\u001b[39m, x: torch\u001b[39m.\u001b[39mTensorType, output_hidden_states: \u001b[39mbool\u001b[39m \u001b[39m=\u001b[39m \u001b[39mTrue\u001b[39;00m):\n\u001b[1;32m     66\u001b[0m     ViT \u001b[39m=\u001b[39m \u001b[39mself\u001b[39m\u001b[39m.\u001b[39mbiomedclip_model\u001b[39m.\u001b[39mvisual\u001b[39m.\u001b[39mtrunk\n\u001b[0;32m---> 67\u001b[0m     x \u001b[39m=\u001b[39m ViT\u001b[39m.\u001b[39;49mpatch_embed(x)\n\u001b[1;32m     68\u001b[0m     x \u001b[39m=\u001b[39m ViT\u001b[39m.\u001b[39m_pos_embed(x)\n\u001b[1;32m     69\u001b[0m     x \u001b[39m=\u001b[39m ViT\u001b[39m.\u001b[39mnorm_pre(x)\n",
      "File \u001b[0;32m~/sedoc/medvlsm/.venv/lib/python3.10/site-packages/torch/nn/modules/module.py:1501\u001b[0m, in \u001b[0;36mModule._call_impl\u001b[0;34m(self, *args, **kwargs)\u001b[0m\n\u001b[1;32m   1496\u001b[0m \u001b[39m# If we don't have any hooks, we want to skip the rest of the logic in\u001b[39;00m\n\u001b[1;32m   1497\u001b[0m \u001b[39m# this function, and just call forward.\u001b[39;00m\n\u001b[1;32m   1498\u001b[0m \u001b[39mif\u001b[39;00m \u001b[39mnot\u001b[39;00m (\u001b[39mself\u001b[39m\u001b[39m.\u001b[39m_backward_hooks \u001b[39mor\u001b[39;00m \u001b[39mself\u001b[39m\u001b[39m.\u001b[39m_backward_pre_hooks \u001b[39mor\u001b[39;00m \u001b[39mself\u001b[39m\u001b[39m.\u001b[39m_forward_hooks \u001b[39mor\u001b[39;00m \u001b[39mself\u001b[39m\u001b[39m.\u001b[39m_forward_pre_hooks\n\u001b[1;32m   1499\u001b[0m         \u001b[39mor\u001b[39;00m _global_backward_pre_hooks \u001b[39mor\u001b[39;00m _global_backward_hooks\n\u001b[1;32m   1500\u001b[0m         \u001b[39mor\u001b[39;00m _global_forward_hooks \u001b[39mor\u001b[39;00m _global_forward_pre_hooks):\n\u001b[0;32m-> 1501\u001b[0m     \u001b[39mreturn\u001b[39;00m forward_call(\u001b[39m*\u001b[39;49margs, \u001b[39m*\u001b[39;49m\u001b[39m*\u001b[39;49mkwargs)\n\u001b[1;32m   1502\u001b[0m \u001b[39m# Do not call functions when jit is used\u001b[39;00m\n\u001b[1;32m   1503\u001b[0m full_backward_hooks, non_full_backward_hooks \u001b[39m=\u001b[39m [], []\n",
      "File \u001b[0;32m~/sedoc/medvlsm/.venv/lib/python3.10/site-packages/timm/layers/patch_embed.py:66\u001b[0m, in \u001b[0;36mPatchEmbed.forward\u001b[0;34m(self, x)\u001b[0m\n\u001b[1;32m     64\u001b[0m B, C, H, W \u001b[39m=\u001b[39m x\u001b[39m.\u001b[39mshape\n\u001b[1;32m     65\u001b[0m \u001b[39mif\u001b[39;00m \u001b[39mself\u001b[39m\u001b[39m.\u001b[39mimg_size \u001b[39mis\u001b[39;00m \u001b[39mnot\u001b[39;00m \u001b[39mNone\u001b[39;00m:\n\u001b[0;32m---> 66\u001b[0m     _assert(H \u001b[39m==\u001b[39;49m \u001b[39mself\u001b[39;49m\u001b[39m.\u001b[39;49mimg_size[\u001b[39m0\u001b[39;49m], \u001b[39mf\u001b[39;49m\u001b[39m\"\u001b[39;49m\u001b[39mInput image height (\u001b[39;49m\u001b[39m{\u001b[39;49;00mH\u001b[39m}\u001b[39;49;00m\u001b[39m) doesn\u001b[39;49m\u001b[39m'\u001b[39;49m\u001b[39mt match model (\u001b[39;49m\u001b[39m{\u001b[39;49;00m\u001b[39mself\u001b[39;49m\u001b[39m.\u001b[39;49mimg_size[\u001b[39m0\u001b[39;49m]\u001b[39m}\u001b[39;49;00m\u001b[39m).\u001b[39;49m\u001b[39m\"\u001b[39;49m)\n\u001b[1;32m     67\u001b[0m     _assert(W \u001b[39m==\u001b[39m \u001b[39mself\u001b[39m\u001b[39m.\u001b[39mimg_size[\u001b[39m1\u001b[39m], \u001b[39mf\u001b[39m\u001b[39m\"\u001b[39m\u001b[39mInput image width (\u001b[39m\u001b[39m{\u001b[39;00mW\u001b[39m}\u001b[39;00m\u001b[39m) doesn\u001b[39m\u001b[39m'\u001b[39m\u001b[39mt match model (\u001b[39m\u001b[39m{\u001b[39;00m\u001b[39mself\u001b[39m\u001b[39m.\u001b[39mimg_size[\u001b[39m1\u001b[39m]\u001b[39m}\u001b[39;00m\u001b[39m).\u001b[39m\u001b[39m\"\u001b[39m)\n\u001b[1;32m     69\u001b[0m x \u001b[39m=\u001b[39m \u001b[39mself\u001b[39m\u001b[39m.\u001b[39mproj(x)\n",
      "File \u001b[0;32m~/sedoc/medvlsm/.venv/lib/python3.10/site-packages/torch/__init__.py:1209\u001b[0m, in \u001b[0;36m_assert\u001b[0;34m(condition, message)\u001b[0m\n\u001b[1;32m   1207\u001b[0m \u001b[39mif\u001b[39;00m \u001b[39mtype\u001b[39m(condition) \u001b[39mis\u001b[39;00m \u001b[39mnot\u001b[39;00m torch\u001b[39m.\u001b[39mTensor \u001b[39mand\u001b[39;00m has_torch_function((condition,)):\n\u001b[1;32m   1208\u001b[0m     \u001b[39mreturn\u001b[39;00m handle_torch_function(_assert, (condition,), condition, message)\n\u001b[0;32m-> 1209\u001b[0m \u001b[39massert\u001b[39;00m condition, message\n",
      "\u001b[0;31mAssertionError\u001b[0m: Input image height (416) doesn't match model (224)."
     ]
    }
   ],
   "source": [
    "biomedclipseg = BiomedCLIPSeg()\n",
    "image_embeddings, image_hidden_states = biomedclipseg._forward_vit(img_tensor, output_hidden_states=True)\n",
    "text_embeddings, text_hidden_states = biomedclipseg._forward_bert(text_ids)"
   ]
  },
  {
   "cell_type": "code",
   "execution_count": null,
   "metadata": {},
   "outputs": [
    {
     "name": "stdout",
     "output_type": "stream",
     "text": [
      "The similaity score between polyp and image: 0.11029593646526337\n",
      "The similaity score between breast ultrasoudultrasound and image: 0.11515961587429047\n",
      "The similaity score between echocardiograhpy and image: 0.07521528005599976\n",
      "The similaity score between skin_cancer and image: 0.2832188308238983\n",
      "The similaity score between cardiomegaly and image: 0.17858745157718658\n",
      "The similaity score between pneumonia and image: 0.22349613904953003\n",
      "The similaity score between hypertension and image: 0.2616083323955536\n",
      "The similaity score between lung_nodule and image: 0.07062393426895142\n",
      "The similaity score between diabetic foot ulcer and image: 0.35241571068763733\n"
     ]
    }
   ],
   "source": [
    "sim_scores = torch.cosine_similarity(text_embeddings, image_embeddings)\n",
    "for c, sim_score in zip(class_names, sim_scores):\n",
    "    print(f\"The similaity score between {c} and image: {sim_score}\")"
   ]
  },
  {
   "cell_type": "code",
   "execution_count": 12,
   "metadata": {},
   "outputs": [],
   "source": [
    "pixels_embeddings = image_hidden_states[-1]\n",
    "pixels_embeddings = torch.norm(pixels_embeddings, dim=-1)\n",
    "numpy_embeddings = pixels_embeddings[0][1:].reshape(14,14).numpy()"
   ]
  },
  {
   "cell_type": "code",
   "execution_count": 13,
   "metadata": {},
   "outputs": [
    {
     "data": {
      "text/plain": [
       "<matplotlib.image.AxesImage at 0x7f920441f250>"
      ]
     },
     "execution_count": 13,
     "metadata": {},
     "output_type": "execute_result"
    },
    {
     "data": {
      "image/png": "[encoded data removed]",
      "text/plain": [
       "<Figure size 640x480 with 1 Axes>"
      ]
     },
     "metadata": {},
     "output_type": "display_data"
    }
   ],
   "source": [
    "from matplotlib import pyplot as plt\n",
    "plt.imshow(numpy_embeddings)"
   ]
  },
  {
   "cell_type": "code",
   "execution_count": null,
   "metadata": {},
   "outputs": [],
   "source": []
  }
 ],
 "metadata": {
  "kernelspec": {
   "display_name": ".venv",
   "language": "python",
   "name": "python3"
  },
  "language_info": {
   "codemirror_mode": {
    "name": "ipython",
    "version": 3
   },
   "file_extension": ".py",
   "mimetype": "text/x-python",
   "name": "python",
   "nbconvert_exporter": "python",
   "pygments_lexer": "ipython3",
   "version": "3.10.12"
  },
  "orig_nbformat": 4
 },
 "nbformat": 4,
 "nbformat_minor": 2
}
