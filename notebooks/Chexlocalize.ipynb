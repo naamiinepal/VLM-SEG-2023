{
 "cells": [
  {
   "cell_type": "code",
   "execution_count": 7,
   "metadata": {},
   "outputs": [],
   "source": [
    "import os.path\n",
    "import cv2\n",
    "import matplotlib.pyplot as plt\n",
    "import numpy as np\n",
    "from glob import glob\n",
    "from pycocotools import mask\n",
    "from PIL import Image, ImageDraw\n",
    "from tqdm import tqdm\n",
    "import json\n",
    "\n"
   ]
  },
  {
   "cell_type": "code",
   "execution_count": 5,
   "metadata": {},
   "outputs": [],
   "source": [
    "def encode_segmentation(segmentation_arr):\n",
    "    \"\"\"\n",
    "    Encode a binary segmentation (np.array) to RLE format using the pycocotools Mask API.\n",
    "    Args:\n",
    "        segmentation_arr (np.array): [h x w] binary segmentation\n",
    "    Returns:\n",
    "\t\tRs (dict): the encoded mask in RLE format\n",
    "    \"\"\"\n",
    "    segmentation = np.asfortranarray(segmentation_arr.astype('uint8'))\n",
    "    Rs = mask.encode(segmentation)\n",
    "    Rs['counts'] = Rs['counts'].decode()\n",
    "    return Rs"
   ]
  },
  {
   "cell_type": "code",
   "execution_count": 6,
   "metadata": {},
   "outputs": [],
   "source": [
    "LOCALIZATION_TASKS = [\n",
    "    \"Enlarged Cardiomediastinum\",\n",
    "    \"Cardiomegaly\",\n",
    "    \"Lung Lesion\",\n",
    "    \"Airspace Opacity\",\n",
    "    \"Edema\",\n",
    "    \"Consolidation\",\n",
    "    \"Atelectasis\",\n",
    "    \"Pneumothorax\",\n",
    "    \"Pleural Effusion\",\n",
    "    \"Support Devices\",\n",
    "]"
   ]
  },
  {
   "cell_type": "code",
   "execution_count": 8,
   "metadata": {},
   "outputs": [],
   "source": [
    "def create_mask(polygons, img_dims):\n",
    "    \"\"\"\n",
    "    Creates a binary mask (of the original matrix size) given a list of polygon\n",
    "        annotations format.\n",
    "\n",
    "    Args:\n",
    "        polygons (list): [[[x11,y11],[x12,y12],...[x1n,y1n]],...]\n",
    "\n",
    "    Returns:\n",
    "        mask (np.array): binary mask, 1 where the pixel is predicted to be the,\n",
    "                                                 pathology, 0 otherwise\n",
    "    \"\"\"\n",
    "    poly = Image.new(\"1\", (img_dims[1], img_dims[0]))\n",
    "    for polygon in polygons:\n",
    "        coords = [(point[0], point[1]) for point in polygon]\n",
    "        ImageDraw.Draw(poly).polygon(coords, outline=1, fill=1)\n",
    "\n",
    "    binary_mask = np.array(poly, dtype=\"int\")\n",
    "    return binary_mask\n",
    "\n",
    "\n",
    "def ann_to_mask(input_path, output_path):\n",
    "    \"\"\"\n",
    "    Args:\n",
    "        input_path (string): json file path with raw human annotations\n",
    "        output_path (string): json file path for saving encoded segmentations\n",
    "    \"\"\"\n",
    "    print(f\"Reading annotations from {input_path}...\")\n",
    "    with open(input_path) as f:\n",
    "        ann = json.load(f)\n",
    "\n",
    "    print(f\"Creating and encoding segmentations...\")\n",
    "    results = {}\n",
    "    for img_id in tqdm(ann.keys()):\n",
    "        if img_id not in results:\n",
    "            results[img_id] = {}\n",
    "        for task in LOCALIZATION_TASKS:\n",
    "            # create segmentation\n",
    "            polygons = ann[img_id][task] if task in ann[img_id] else []\n",
    "            img_dims = ann[img_id][\"img_size\"]\n",
    "            segm_map = create_mask(polygons, img_dims)\n",
    "\n",
    "            # encode to coco mask\n",
    "            encoded_map = encode_segmentation(segm_map)\n",
    "            results[img_id][task] = encoded_map\n",
    "\n",
    "    assert len(results.keys()) == len(ann.keys())\n",
    "\n",
    "    # save segmentations to json file\n",
    "    print(f\"Segmentation masks saved to {output_path}\")\n",
    "    with open(output_path, \"w\") as outfile:\n",
    "        json.dump(results, outfile)"
   ]
  },
  {
   "cell_type": "code",
   "execution_count": null,
   "metadata": {},
   "outputs": [],
   "source": []
  }
 ],
 "metadata": {
  "kernelspec": {
   "display_name": ".venv",
   "language": "python",
   "name": ".venv"
  },
  "language_info": {
   "codemirror_mode": {
    "name": "ipython",
    "version": 3
   },
   "file_extension": ".py",
   "mimetype": "text/x-python",
   "name": "python",
   "nbconvert_exporter": "python",
   "pygments_lexer": "ipython3",
   "version": "3.10.6"
  },
  "orig_nbformat": 4
 },
 "nbformat": 4,
 "nbformat_minor": 2
}
