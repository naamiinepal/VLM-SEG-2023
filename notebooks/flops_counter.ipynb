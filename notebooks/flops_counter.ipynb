{
 "cells": [
  {
   "cell_type": "code",
   "execution_count": null,
   "metadata": {},
   "outputs": [],
   "source": [
    "import sys\n",
    "import torch"
   ]
  },
  {
   "cell_type": "code",
   "execution_count": null,
   "metadata": {},
   "outputs": [],
   "source": [
    "sys.path.append(\"..\")"
   ]
  },
  {
   "cell_type": "code",
   "execution_count": null,
   "metadata": {},
   "outputs": [],
   "source": [
    "from src.models import CLIPSegAdapter, CLIPSeg"
   ]
  },
  {
   "cell_type": "code",
   "execution_count": null,
   "metadata": {},
   "outputs": [],
   "source": [
    "clipseg_adapter = CLIPSegAdapter(\"CIDAS/clipseg-rd64-refined\")\n",
    "clipseg = CLIPSeg(\"CIDAS/clipseg-rd64-refined\")\n",
    "\n",
    "device = 'cuda:0'\n",
    "B,C,H,W,L = 1,3, 352, 352, 77\n",
    "pixel_values = torch.randn([B, C, H, W]).to(device)\n",
    "input_ids = torch.randint(0,  49408, [B, L], dtype=torch.long).to(device)\n",
    "attention_mask = torch.randint(0,  2, [B, L], dtype=torch.long).to(device)\n",
    "clipseg = clipseg.to(device)\n",
    "clipseg_adapter = clipseg_adapter.to(device)"
   ]
  },
  {
   "cell_type": "code",
   "execution_count": null,
   "metadata": {},
   "outputs": [],
   "source": [
    "from fvcore.nn import FlopCountAnalysis\n",
    "flops = FlopCountAnalysis(clipseg, (input_ids, pixel_values, attention_mask))\n",
    "print(flops.total())\n",
    "print(flops.by_operator())\n",
    "print(flops.by_module())\n",
    "print(flops.by_module_and_operator())\n"
   ]
  },
  {
   "cell_type": "code",
   "execution_count": null,
   "metadata": {},
   "outputs": [
    {
     "ename": "",
     "evalue": "",
     "output_type": "error",
     "traceback": [
      "\u001b[1;31mThe Kernel crashed while executing code in the the current cell or a previous cell. Please review the code in the cell(s) to identify a possible cause of the failure. Click <a href='https://aka.ms/vscodeJupyterKernelCrash'>here</a> for more info. View Jupyter <a href='command:jupyter.viewOutput'>log</a> for further details."
     ]
    }
   ],
   "source": [
    "\n",
    "import logging\n",
    "\n",
    "logging.basicConfig(filename=\"logs.log\", filemode=\"w\", format=\"%(name)s → %(levelname)s: %(message)s\")\n",
    "from fvcore.nn import FlopCountAnalysis\n",
    "flops = FlopCountAnalysis(clipseg_adapter, (input_ids, pixel_values, attention_mask))\n",
    "print(flops.total())\n",
    "print(flops.by_operator())\n",
    "print(flops.by_module())\n",
    "print(flops.by_module_and_operator())\n",
    "logging.info(flops.by_module_and_operator())"
   ]
  },
  {
   "cell_type": "code",
   "execution_count": null,
   "metadata": {},
   "outputs": [],
   "source": []
  }
 ],
 "metadata": {
  "kernelspec": {
   "display_name": ".venv",
   "language": "python",
   "name": "python3"
  },
  "language_info": {
   "codemirror_mode": {
    "name": "ipython",
    "version": 3
   },
   "file_extension": ".py",
   "mimetype": "text/x-python",
   "name": "python",
   "nbconvert_exporter": "python",
   "pygments_lexer": "ipython3",
   "version": "3.10.12"
  }
 },
 "nbformat": 4,
 "nbformat_minor": 2
}
